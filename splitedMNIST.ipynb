{
 "cells": [
  {
   "cell_type": "code",
   "execution_count": 1,
   "metadata": {},
   "outputs": [],
   "source": [
    "import numpy as np\n",
    "\n",
    "import torch\n",
    "from torchvision.datasets import MNIST\n",
    "from torchvision import transforms\n",
    "from torch.utils.data import Dataset, DataLoader"
   ]
  },
  {
   "cell_type": "code",
   "execution_count": 2,
   "metadata": {},
   "outputs": [],
   "source": [
    "train_dataset = MNIST('data', train=True, download=True,\n",
    "        transform=transforms.Compose([\n",
    "            transforms.ToTensor()\n",
    "        ]))"
   ]
  },
  {
   "cell_type": "code",
   "execution_count": 3,
   "metadata": {},
   "outputs": [],
   "source": [
    "class SubDataset(Dataset):\n",
    "    def __init__(self, data, targets):\n",
    "        self.data = data\n",
    "        self.targets = targets\n",
    "\n",
    "    def __len__(self):\n",
    "        return len(self.targets)\n",
    "\n",
    "    def __getitem__(self, idx):        \n",
    "        return self.data[idx], self.targets[idx]"
   ]
  },
  {
   "cell_type": "code",
   "execution_count": 4,
   "metadata": {},
   "outputs": [],
   "source": [
    "def split_dataset(dataset, n_task=5, n_classes=10):\n",
    "    subdatasets = []\n",
    "\n",
    "    data = dataset.data\n",
    "    targets = dataset.targets\n",
    "\n",
    "    classes_per_task = int(n_classes / n_task)\n",
    "    for i in range(n_task):\n",
    "        classes = np.arange(i * classes_per_task, (i+1) * classes_per_task)\n",
    "        index = torch.zeros_like(targets).to(torch.bool)\n",
    "        for k in classes:\n",
    "            index = torch.logical_or(index, targets == k)\n",
    "\n",
    "        subdataset = SubDataset(data[index], targets[index])\n",
    "        subdatasets.append(subdataset)\n",
    "\n",
    "    return subdatasets"
   ]
  },
  {
   "cell_type": "code",
   "execution_count": 5,
   "metadata": {},
   "outputs": [],
   "source": [
    "subdatasets = split_dataset(train_dataset, 5, 10)"
   ]
  },
  {
   "cell_type": "code",
   "execution_count": 6,
   "metadata": {},
   "outputs": [
    {
     "name": "stdout",
     "output_type": "stream",
     "text": [
      "tensor([0, 1, 0, 1, 0, 0, 1, 1, 0, 0, 1, 1, 0, 1, 1, 0, 0, 0, 1, 0, 1, 0, 1, 1,\n",
      "        0, 0, 0, 1, 0, 1, 1, 0])\n",
      "tensor([3, 2, 2, 3, 3, 2, 3, 2, 3, 3, 2, 3, 3, 2, 3, 2, 2, 2, 2, 3, 2, 3, 3, 2,\n",
      "        3, 2, 2, 3, 3, 2, 2, 2])\n",
      "tensor([4, 4, 5, 4, 4, 4, 4, 4, 4, 5, 5, 4, 4, 5, 5, 5, 4, 4, 5, 4, 4, 4, 4, 5,\n",
      "        4, 4, 5, 4, 4, 4, 4, 5])\n",
      "tensor([7, 7, 6, 7, 6, 7, 6, 6, 7, 7, 6, 7, 7, 7, 7, 6, 6, 6, 7, 6, 6, 7, 6, 6,\n",
      "        6, 7, 6, 7, 7, 7, 6, 7])\n",
      "tensor([8, 9, 8, 9, 9, 9, 9, 8, 9, 8, 8, 8, 8, 8, 9, 9, 8, 9, 8, 9, 8, 9, 9, 9,\n",
      "        8, 9, 8, 8, 8, 8, 8, 9])\n"
     ]
    }
   ],
   "source": [
    "for i, subdataset in enumerate(subdatasets):\n",
    "\n",
    "    data_loader = DataLoader(subdataset, batch_size=32, shuffle=True, drop_last=True)\n",
    "\n",
    "    for x, y in data_loader:\n",
    "        print(y)\n",
    "        break"
   ]
  },
  {
   "cell_type": "code",
   "execution_count": null,
   "metadata": {},
   "outputs": [],
   "source": []
  }
 ],
 "metadata": {
  "kernelspec": {
   "display_name": "Python 3.9.7 ('base': conda)",
   "language": "python",
   "name": "python3"
  },
  "language_info": {
   "codemirror_mode": {
    "name": "ipython",
    "version": 3
   },
   "file_extension": ".py",
   "mimetype": "text/x-python",
   "name": "python",
   "nbconvert_exporter": "python",
   "pygments_lexer": "ipython3",
   "version": "3.9.7"
  },
  "orig_nbformat": 4,
  "vscode": {
   "interpreter": {
    "hash": "f7b6d87f592f98735ec0c7a83c07bdd5004abb74cdf4a8c75e0815fdc6719c09"
   }
  }
 },
 "nbformat": 4,
 "nbformat_minor": 2
}
